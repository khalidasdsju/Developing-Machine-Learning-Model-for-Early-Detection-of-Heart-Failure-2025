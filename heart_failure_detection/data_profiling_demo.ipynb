{
 "cells": [
  {
   "cell_type": "markdown",
   "metadata": {},
   "source": [
    "# Heart Failure Detection - Data Profiling Demo\n",
    "\n",
    "This notebook demonstrates how to use ydata-profiling to generate comprehensive reports for your heart failure detection dataset."
   ]
  },
  {
   "cell_type": "markdown",
   "metadata": {},
   "source": [
    "## 1. Import Libraries"
   ]
  },
  {
   "cell_type": "code",
   "execution_count": null,
   "metadata": {},
   "outputs": [],
   "source": [
    "import pandas as pd\n",
    "import numpy as np\n",
    "import matplotlib.pyplot as plt\n",
    "import seaborn as sns\n",
    "from ydata_profiling import ProfileReport\n",
    "\n",
    "# Set plot style\n",
    "plt.style.use('seaborn-v0_8-whitegrid')\n",
    "sns.set_palette('Set2')"
   ]
  },
  {
   "cell_type": "markdown",
   "metadata": {},
   "source": [
    "## 2. Load the Dataset\n",
    "\n",
    "First, let's load the heart failure dataset."
   ]
  },
  {
   "cell_type": "code",
   "execution_count": null,
   "metadata": {},
   "outputs": [],
   "source": [
    "# Replace this path with the path to your dataset\n",
    "data_path = \"artifacts/2025-04-10_21-03-39/data_ingestion/feature_store/heart_failure_data.csv\"\n",
    "\n",
    "# Load the data\n",
    "data = pd.read_csv(data_path)\n",
    "\n",
    "# Display the first few rows\n",
    "data.head()"
   ]
  },
  {
   "cell_type": "markdown",
   "metadata": {},
   "source": [
    "## 3. Basic Data Exploration"
   ]
  },
  {
   "cell_type": "code",
   "execution_count": null,
   "metadata": {},
   "outputs": [],
   "source": [
    "# Check the shape of the dataset\n",
    "print(f\"Dataset shape: {data.shape}\")\n",
    "\n",
    "# Check data types\n",
    "data.dtypes"
   ]
  },
  {
   "cell_type": "code",
   "execution_count": null,
   "metadata": {},
   "outputs": [],
   "source": [
    "# Check for missing values\n",
    "missing_values = data.isnull().sum()\n",
    "missing_percentage = (missing_values / len(data)) * 100\n",
    "\n",
    "missing_df = pd.DataFrame({\n",
    "    'Missing Values': missing_values,\n",
    "    'Percentage': missing_percentage\n",
    "})\n",
    "\n",
    "# Display only columns with missing values\n",
    "missing_df[missing_df['Missing Values'] > 0].sort_values('Missing Values', ascending=False)"
   ]
  },
  {
   "cell_type": "markdown",
   "metadata": {},
   "source": [
    "## 4. Generate Profiling Report\n",
    "\n",
    "Now, let's generate a comprehensive profiling report using ydata-profiling."
   ]
  },
  {
   "cell_type": "code",
   "execution_count": null,
   "metadata": {},
   "outputs": [],
   "source": [
    "# Generate a profiling report\n",
    "profile = ProfileReport(data, title=\"Heart Failure Dataset Profiling Report\", explorative=True)\n",
    "\n",
    "# Display the report in the notebook\n",
    "profile"
   ]
  },
  {
   "cell_type": "markdown",
   "metadata": {},
   "source": [
    "## 5. Save the Report\n",
    "\n",
    "You can save the report as an HTML file for future reference."
   ]
  },
  {
   "cell_type": "code",
   "execution_count": null,
   "metadata": {},
   "outputs": [],
   "source": [
    "# Save the report to an HTML file\n",
    "profile.to_file(\"heart_failure_profile_report.html\")\n",
    "print(\"Report saved to 'heart_failure_profile_report.html'\")"
   ]
  },
  {
   "cell_type": "markdown",
   "metadata": {},
   "source": [
    "## 6. Generate Minimal Report\n",
    "\n",
    "You can also generate a minimal report for a quicker overview."
   ]
  },
  {
   "cell_type": "code",
   "execution_count": null,
   "metadata": {},
   "outputs": [],
   "source": [
    "# Generate a minimal report\n",
    "minimal_profile = ProfileReport(data, title=\"Heart Failure Dataset - Minimal Report\", minimal=True)\n",
    "\n",
    "# Display the minimal report\n",
    "minimal_profile"
   ]
  },
  {
   "cell_type": "markdown",
   "metadata": {},
   "source": [
    "## 7. Compare Datasets\n",
    "\n",
    "You can also use ydata-profiling to compare different datasets, such as training and testing sets."
   ]
  },
  {
   "cell_type": "code",
   "execution_count": null,
   "metadata": {},
   "outputs": [],
   "source": [
    "# Load training and testing datasets\n",
    "train_path = \"artifacts/2025-04-10_21-03-39/data_ingestion/dataset/train.csv\"\n",
    "test_path = \"artifacts/2025-04-10_21-03-39/data_ingestion/dataset/test.csv\"\n",
    "\n",
    "train_data = pd.read_csv(train_path)\n",
    "test_data = pd.read_csv(test_path)\n",
    "\n",
    "print(f\"Training set shape: {train_data.shape}\")\n",
    "print(f\"Testing set shape: {test_data.shape}\")"
   ]
  },
  {
   "cell_type": "code",
   "execution_count": null,
   "metadata": {},
   "outputs": [],
   "source": [
    "# Generate profile reports for training and testing sets\n",
    "train_profile = ProfileReport(train_data, title=\"Training Dataset\", minimal=True)\n",
    "test_profile = ProfileReport(test_data, title=\"Testing Dataset\", minimal=True)\n",
    "\n",
    "# Compare the reports\n",
    "comparison_report = train_profile.compare(test_profile)\n",
    "\n",
    "# Display the comparison report\n",
    "comparison_report"
   ]
  },
  {
   "cell_type": "markdown",
   "metadata": {},
   "source": [
    "## 8. Save the Comparison Report"
   ]
  },
  {
   "cell_type": "code",
   "execution_count": null,
   "metadata": {},
   "outputs": [],
   "source": [
    "# Save the comparison report\n",
    "comparison_report.to_file(\"train_test_comparison_report.html\")\n",
    "print(\"Comparison report saved to 'train_test_comparison_report.html'\")"
   ]
  },
  {
   "cell_type": "markdown",
   "metadata": {},
   "source": [
    "## 9. Conclusion\n",
    "\n",
    "In this notebook, we demonstrated how to use ydata-profiling to generate comprehensive reports for your heart failure detection dataset. These reports provide valuable insights into your data, including:\n",
    "\n",
    "- Basic statistics (mean, median, min, max, etc.)\n",
    "- Missing values\n",
    "- Correlations between variables\n",
    "- Distributions of variables\n",
    "- Potential issues with the data\n",
    "\n",
    "You can use these insights to better understand your data and make informed decisions during the data preprocessing and modeling phases."
   ]
  }
 ],
 "metadata": {
  "kernelspec": {
   "display_name": "Python 3",
   "language": "python",
   "name": "python3"
  },
  "language_info": {
   "codemirror_mode": {
    "name": "ipython",
    "version": 3
   },
   "file_extension": ".py",
   "mimetype": "text/x-python",
   "name": "python",
   "nbconvert_exporter": "python",
   "pygments_lexer": "ipython3",
   "version": "3.9.6"
  }
 },
 "nbformat": 4,
 "nbformat_minor": 4
}
